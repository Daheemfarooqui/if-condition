{
 "cells": [
  {
   "cell_type": "markdown",
   "id": "b3776c07-6659-431a-9958-729899c71d28",
   "metadata": {},
   "source": [
    "# Control Flow Assignment Questions"
   ]
  },
  {
   "cell_type": "markdown",
   "id": "8f2ec200-4cfb-4591-9806-eb8e3ecc5936",
   "metadata": {},
   "source": [
    "## Basic If-Else Statements:"
   ]
  },
  {
   "cell_type": "markdown",
   "id": "059b7616-4f19-4b28-a5bf-d93f2fb93ee4",
   "metadata": {},
   "source": [
    "## 1. Write a Python program to check if a given number is positive or negative."
   ]
  },
  {
   "cell_type": "code",
   "execution_count": 7,
   "id": "77278556-5f6c-4598-906f-30924b8b96a6",
   "metadata": {},
   "outputs": [
    {
     "name": "stdin",
     "output_type": "stream",
     "text": [
      "enter your number 5\n"
     ]
    },
    {
     "name": "stdout",
     "output_type": "stream",
     "text": [
      " this is a positive number\n"
     ]
    }
   ],
   "source": [
    "num = int(input(\"enter your number\"))\n",
    "if num >= 0:\n",
    "    print(\" this is a positive number\")\n",
    "else:\n",
    "    print(\"this is a negative number\")"
   ]
  },
  {
   "cell_type": "markdown",
   "id": "5c99e818-8d6d-47cb-81d4-4f89afd482af",
   "metadata": {},
   "source": [
    "## 2. Create a program that determines if a person is eligible to vote based on their age."
   ]
  },
  {
   "cell_type": "code",
   "execution_count": 10,
   "id": "9a48c41e-4ebd-4015-950c-1c50e9eb4e2a",
   "metadata": {},
   "outputs": [
    {
     "name": "stdin",
     "output_type": "stream",
     "text": [
      "enter your age 20\n"
     ]
    },
    {
     "name": "stdout",
     "output_type": "stream",
     "text": [
      "person is eligible to vote\n"
     ]
    }
   ],
   "source": [
    "age = int(input(\"enter your age\"))\n",
    "if age >= 18:\n",
    "    print(\"person is eligible to vote\")\n",
    "else:\n",
    "    print(\"person is not eligibe to vote\")"
   ]
  },
  {
   "cell_type": "markdown",
   "id": "51f2a6df-9d51-4eb3-8148-fcccb615aff2",
   "metadata": {},
   "source": [
    "## 3. Develop a program to find the maximum of two numbers using if-else statements."
   ]
  },
  {
   "cell_type": "code",
   "execution_count": 14,
   "id": "0529b2c9-f8b1-4fcc-84c0-17c4ed7dfedc",
   "metadata": {},
   "outputs": [
    {
     "name": "stdin",
     "output_type": "stream",
     "text": [
      "enter first number 10\n",
      "enter second number 10\n"
     ]
    },
    {
     "name": "stdout",
     "output_type": "stream",
     "text": [
      "both number is equal\n"
     ]
    }
   ],
   "source": [
    "n1 = int(input(\"enter first number\"))\n",
    "n2 = int(input(\"enter second number\"))\n",
    "\n",
    "if n1 > n2 :\n",
    "    print (\"first number is greater\")\n",
    "elif n2 > n1 :\n",
    "    print(\"second number is greater\")\n",
    "else:\n",
    "    print(\"both number is equal\")"
   ]
  },
  {
   "cell_type": "markdown",
   "id": "3876df88-3a57-4c0b-8f71-9950d602efd0",
   "metadata": {},
   "source": [
    "## 5. Create a program that checks whether a character is a vowel or a consonant."
   ]
  },
  {
   "cell_type": "code",
   "execution_count": 11,
   "id": "c9eebe77-8afe-4906-b513-2186df315de2",
   "metadata": {},
   "outputs": [
    {
     "name": "stdin",
     "output_type": "stream",
     "text": [
      " enter your character a\n"
     ]
    },
    {
     "name": "stdout",
     "output_type": "stream",
     "text": [
      "a is a vowel\n"
     ]
    }
   ],
   "source": [
    "vowel = \"aeiouAEIOU\"\n",
    "char = input(\" enter your character\")\n",
    "\n",
    "if char in vowel:\n",
    "    \n",
    "    print(f\"{char} is a vowel\")\n",
    "else:\n",
    "    print(f\"{char} is consonant\")"
   ]
  },
  {
   "cell_type": "markdown",
   "id": "c65ff58e-62a6-4f27-a3f0-655ea55f33ab",
   "metadata": {},
   "source": [
    "## 6. Implement a program to determine whether a given number is even or odd."
   ]
  },
  {
   "cell_type": "code",
   "execution_count": 13,
   "id": "8a7f6850-3c13-4736-b85c-9536341f31bb",
   "metadata": {},
   "outputs": [
    {
     "name": "stdin",
     "output_type": "stream",
     "text": [
      "enter your number  4\n"
     ]
    },
    {
     "name": "stdout",
     "output_type": "stream",
     "text": [
      "4 is even number\n"
     ]
    }
   ],
   "source": [
    "number = int(input(\"enter your number \"))\n",
    "\n",
    "if number % 2 == 0:\n",
    "    print(f\"{number} is even number\")\n",
    "else:\n",
    "    print(f\"{number } is odd number\")"
   ]
  },
  {
   "cell_type": "markdown",
   "id": "08623ad4-c378-4bcd-8630-3db57be67c87",
   "metadata": {},
   "source": [
    "## 8. Develop a program that determines the largest of three given numbers using if-else statements."
   ]
  },
  {
   "cell_type": "code",
   "execution_count": 17,
   "id": "061a9f59-745f-4157-a89c-841bf013034e",
   "metadata": {},
   "outputs": [
    {
     "name": "stdin",
     "output_type": "stream",
     "text": [
      "enter first number 50\n",
      "enter second number 800\n",
      "enter third number 154121\n"
     ]
    },
    {
     "name": "stdout",
     "output_type": "stream",
     "text": [
      "the largest number beetwen 50 , 800 and 154121 is 154121 .\n"
     ]
    }
   ],
   "source": [
    "num1 = int(input(\"enter first number\"))\n",
    "num2 = int(input(\"enter second number\"))\n",
    "num3 = int(input(\"enter third number\"))\n",
    "\n",
    "if num1 >= num2 and num1 >= num3:\n",
    "    largest = num1\n",
    "elif num2 >= num1 and num2 >= num3:\n",
    "    largest = num2\n",
    "else:\n",
    "    largest =  num3\n",
    "    <\n",
    "print(f\"the largest number beetwen {num1} , {num2} and {num3} is {largest} .\")"
   ]
  },
  {
   "cell_type": "markdown",
   "id": "a2b493b3-2eb8-47f5-ade0-9307d8ec5115",
   "metadata": {},
   "source": [
    "## 9. Create a program that checks if a given string is a palindrome."
   ]
  },
  {
   "cell_type": "code",
   "execution_count": 30,
   "id": "039a97cc-e9e9-43f9-93d1-635038938c4d",
   "metadata": {},
   "outputs": [
    {
     "name": "stdin",
     "output_type": "stream",
     "text": [
      "enter your string daheem\n"
     ]
    },
    {
     "name": "stdout",
     "output_type": "stream",
     "text": [
      "given string daheem is not palidrome\n"
     ]
    }
   ],
   "source": [
    "string= input(\"enter your string\")\n",
    "\n",
    "clean_string = ''.join(string.split()).lower()\n",
    "\n",
    "if clean_string == clean_string[::-1]:\n",
    "    print(f\" given string {string} is palinrome\")\n",
    "else:\n",
    "          print(f\"given string {string} is not palidrome\")\n"
   ]
  },
  {
   "cell_type": "markdown",
   "id": "fae6c6bb-2990-4bc9-bece-7d5f696fbf49",
   "metadata": {},
   "source": [
    "## 10. Write a Python program to calculate the grade based on a student's score."
   ]
  },
  {
   "cell_type": "code",
   "execution_count": null,
   "id": "f01f09eb-a3f1-4bd7-89bb-2dc61afa3aa0",
   "metadata": {},
   "outputs": [],
   "source": [
    "grade = int(input(\"enter your masks\"))\n",
    "\n",
    "if 100 >= grade <= 75:\n",
    "    print(\" A grade \")\n",
    "elif 75 <= grade <=55:\n",
    "    print(\" B grade\")\n",
    "elif 55 <= grade <= 33:\n",
    "    print(\"C grade \")\n",
    "else:\n",
    "    print(\"Fail\")"
   ]
  },
  {
   "cell_type": "markdown",
   "id": "528295aa-513e-4ee5-87ee-362b60890787",
   "metadata": {},
   "source": [
    "# Nested If-Else Statements:"
   ]
  },
  {
   "cell_type": "markdown",
   "id": "67a974e1-1d07-4a6e-8485-10303fcf2d40",
   "metadata": {},
   "source": [
    "## 11. Write a program to find the largest among three numbers using nested if-else statements."
   ]
  },
  {
   "cell_type": "code",
   "execution_count": 1,
   "id": "df004485-019a-4929-b9df-da94fb883f47",
   "metadata": {},
   "outputs": [
    {
     "name": "stdin",
     "output_type": "stream",
     "text": [
      "enter first number  5\n",
      "enter second number 65\n",
      "enter third number 5\n"
     ]
    },
    {
     "name": "stdout",
     "output_type": "stream",
     "text": [
      "The largest number among 5, 65, and 5 is 65.\n"
     ]
    }
   ],
   "source": [
    "num1 =int(input(\"enter first number \"))\n",
    "num2 = int(input(\"enter second number\"))\n",
    "num3 = int(input(\"enter third number\"))\n",
    "\n",
    "if num1 >= num2:\n",
    "    if num1 >= num3:\n",
    "        largest = num1\n",
    "    else:\n",
    "        largest = num3\n",
    "else:\n",
    "    if num2 >= num3:\n",
    "        largest = num2\n",
    "    else:\n",
    "        largest = num3\n",
    "print(f\"The largest number among {num1}, {num2}, and {num3} is {largest}.\")"
   ]
  },
  {
   "cell_type": "markdown",
   "id": "8a8b8b97-72ab-4b2c-94ab-186d442152bc",
   "metadata": {},
   "source": [
    "## 12. Implement a program to determine if a triangle is equilateral, isosceles, or scalene."
   ]
  },
  {
   "cell_type": "code",
   "execution_count": 9,
   "id": "b4f77630-8bb6-4c98-a6da-cac045a8bc0c",
   "metadata": {},
   "outputs": [
    {
     "name": "stdin",
     "output_type": "stream",
     "text": [
      "enter a number  5\n"
     ]
    },
    {
     "name": "stdout",
     "output_type": "stream",
     "text": [
      "Number is: positive\n"
     ]
    }
   ],
   "source": [
    "def number (num):\n",
    "    if num >0:\n",
    "        return \"positive\"\n",
    "    elif num <0 :\n",
    "        return \"Negative\"\n",
    "    else:\n",
    "        return \"zero\"\n",
    "        \n",
    "def main():\n",
    "    num = float(input(\"enter a number \"))\n",
    "    print(\"Number is:\", number(num))\n",
    "          \n",
    "if __name__ == \"__main__\":\n",
    "    main()"
   ]
  },
  {
   "cell_type": "markdown",
   "id": "36a8bd91-1dcf-4893-a008-ab920acc3e44",
   "metadata": {},
   "source": [
    "## Create a program to check if a person is a teenager (between 13 and 19 years old)."
   ]
  },
  {
   "cell_type": "code",
   "execution_count": 18,
   "id": "c97af051-c87e-451b-bbc4-8755cf9f263d",
   "metadata": {},
   "outputs": [
    {
     "name": "stdin",
     "output_type": "stream",
     "text": [
      "enter your age  5\n"
     ]
    },
    {
     "name": "stdout",
     "output_type": "stream",
     "text": [
      "5 is not teenageer\n"
     ]
    }
   ],
   "source": [
    "age = int(input(\"enter your age \"))\n",
    "\n",
    "if age >= 13 and age<= 19:\n",
    "    print(\"teenager\")\n",
    "else:\n",
    "    print(f\"{age} is not teenageer\")"
   ]
  },
  {
   "cell_type": "markdown",
   "id": "4e251079-bfd9-4d3c-a3a2-c5a695cb5d4e",
   "metadata": {},
   "source": [
    "## 19. Create a program that determines if a year is a leap year and also if it is evenly divisible by 400."
   ]
  },
  {
   "cell_type": "code",
   "execution_count": 27,
   "id": "90b5a8ea-fcc8-44bd-810a-64dbbc8870b9",
   "metadata": {},
   "outputs": [
    {
     "name": "stdin",
     "output_type": "stream",
     "text": [
      "enter a year 2143\n"
     ]
    },
    {
     "name": "stdout",
     "output_type": "stream",
     "text": [
      "2143 is not a leep year\n"
     ]
    }
   ],
   "source": [
    "def leep_year(year):\n",
    "    if year % 400 == 0:\n",
    "        return True\n",
    "    elif year % 100 == 0:\n",
    "        return False\n",
    "    elif year % 4 == 0 :\n",
    "        return True \n",
    "    else:\n",
    "        return False\n",
    "    \n",
    "def main ():\n",
    "    year = int(input(\"enter a year\"))\n",
    "    if leep_year(year):\n",
    "        print(f\"{year} is a leep year\")\n",
    "    else:\n",
    "        print(f\"{year} is not a leep year\")\n",
    "        \n",
    "if __name__ == \"__main__\":\n",
    "    main()"
   ]
  },
  {
   "cell_type": "markdown",
   "id": "02a86e7d-69b1-48a3-9830-d502c7bf1570",
   "metadata": {},
   "source": [
    "# Elif Statements:"
   ]
  },
  {
   "cell_type": "markdown",
   "id": "d02b9566-618f-4fe4-9e1c-f1d16256b806",
   "metadata": {},
   "source": [
    "## 21. Write a Python program to assign grades based on different ranges of scores using elif statements."
   ]
  },
  {
   "cell_type": "code",
   "execution_count": 33,
   "id": "8860d432-ec6b-41b4-bbff-a4ca0f76c51b",
   "metadata": {},
   "outputs": [
    {
     "name": "stdin",
     "output_type": "stream",
     "text": [
      "Enter your grade 100\n"
     ]
    },
    {
     "name": "stdout",
     "output_type": "stream",
     "text": [
      "first grade\n"
     ]
    }
   ],
   "source": [
    "grade = int(input(\"Enter your grade\"))\n",
    "if 75 <= grade <=100:\n",
    "    print(\"first grade\")\n",
    "elif 55 <=  grade <=74:\n",
    "    print(\"second\")\n",
    "elif 33 <= grade <=54:\n",
    "    print(\"third\")\n",
    "elif 0 <= grade <= 32:\n",
    "    print(\"Fail\")\n",
    "else:\n",
    "    print(\"invalid grade grade must be between 0 and 100\")"
   ]
  },
  {
   "cell_type": "markdown",
   "id": "c45b72dc-ba53-4aa9-87fe-c8f8bd3352d4",
   "metadata": {},
   "source": [
    "## 23. Develop a program to categorize a given person's BMI into underweight, normal, overweight, or obese using elif statements."
   ]
  },
  {
   "cell_type": "code",
   "execution_count": 19,
   "id": "c6fb7e2f-4df2-4314-b328-3c80ce095f15",
   "metadata": {},
   "outputs": [
    {
     "name": "stdin",
     "output_type": "stream",
     "text": [
      "Enter your BMI:  55\n"
     ]
    },
    {
     "name": "stdout",
     "output_type": "stream",
     "text": [
      "OBESITY CLASS III\n"
     ]
    }
   ],
   "source": [
    "bmi = float(input(\"Enter your BMI: \"))\n",
    "\n",
    "if bmi >= 40:\n",
    "    print(\"OBESITY CLASS III\")\n",
    "elif 35 <= bmi <= 39.9:\n",
    "    print(\"OBESITY CLASS II\")\n",
    "elif 30 <= bmi <= 34.9:\n",
    "    print(\"OBESITY CLASS I\")\n",
    "elif 25 <= bmi <= 29.9:\n",
    "    print(\"OVERWEIGHT\")\n",
    "elif 18.5 <= bmi <= 24.9:\n",
    "    print(\"HEALTHY WEIGHT\")\n",
    "elif bmi < 18.5 and bmi >= 0:\n",
    "    print(\"UNDERWEIGHT\")\n",
    "else:\n",
    "    print(\"INVALID BMI\")\n"
   ]
  },
  {
   "cell_type": "markdown",
   "id": "591723ac-753a-49e4-a5cc-945a01a33412",
   "metadata": {},
   "source": [
    " ## 24. Create a program that determines whether a given number is positive, negative, or zero using elif statements."
   ]
  },
  {
   "cell_type": "code",
   "execution_count": 18,
   "id": "eeafad0d-1824-435f-8d96-f8088dfa040f",
   "metadata": {},
   "outputs": [
    {
     "name": "stdin",
     "output_type": "stream",
     "text": [
      "Enter your number -5\n"
     ]
    },
    {
     "name": "stdout",
     "output_type": "stream",
     "text": [
      "-5 is negative\n"
     ]
    }
   ],
   "source": [
    "number = int(input(\"Enter your number\"))\n",
    "if number >0 :\n",
    "    print(f\"{number} is positive\")\n",
    "elif number == 0 :\n",
    "    print(f\"{number} is zero\")\n",
    "else:\n",
    "    print(f\"{number} is negative\")"
   ]
  },
  {
   "cell_type": "markdown",
   "id": "f1b5118e-6652-4a06-87bf-5cae63fc4789",
   "metadata": {},
   "source": [
    "## 25. Write a Python script to determine the type of a character (uppercase, lowercase, or special) using elif statements."
   ]
  },
  {
   "cell_type": "code",
   "execution_count": 8,
   "id": "976b4049-0642-479a-bf4a-2adcd0af7aef",
   "metadata": {},
   "outputs": [
    {
     "name": "stdin",
     "output_type": "stream",
     "text": [
      "enter your character 4\n"
     ]
    },
    {
     "name": "stdout",
     "output_type": "stream",
     "text": [
      "4 is upper character\n"
     ]
    }
   ],
   "source": [
    "char = input(\"enter your character\")\n",
    "\n",
    "if char.upper():\n",
    "    print(f\"{char} is upper character\")\n",
    "elif char.lower():\n",
    "    print(f\"{char} is lower character\")\n",
    "else:\n",
    "    print(f\"{char} is spicel character\")\n",
    "    "
   ]
  },
  {
   "cell_type": "markdown",
   "id": "f45a6467-026b-454c-b6e9-de1ae449c1e6",
   "metadata": {},
   "source": [
    "## 26. Implement a program to calculate the discounted price based on different purchase amounts using elif statements."
   ]
  },
  {
   "cell_type": "code",
   "execution_count": 6,
   "id": "4a961918-07c1-4183-af7c-21544e4bccbc",
   "metadata": {},
   "outputs": [
    {
     "name": "stdin",
     "output_type": "stream",
     "text": [
      "Enter the purchase amount:  100\n"
     ]
    },
    {
     "name": "stdout",
     "output_type": "stream",
     "text": [
      "Discounted price: $ 95.0\n"
     ]
    }
   ],
   "source": [
    "def c_discounted_price(purchase_amount):\n",
    "    if purchase_amount < 100:\n",
    "        discount_rate = 0 \n",
    "    elif purchase_amount < 500:\n",
    "        discount_rate = 0.05\n",
    "    elif purchase_amount < 1000:\n",
    "        discount_rate = 0.1\n",
    "    elif purchase_amount < 2000:\n",
    "        discount_rate = 0.15\n",
    "    else:\n",
    "        discount_rate = 0.2\n",
    "        \n",
    "    discounted_price = purchase_amount - (purchase_amount * discount_rate)\n",
    "    return discounted_price\n",
    "\n",
    "purchase_amount = float(input(\"Enter the purchase amount: \"))\n",
    "discounted_price = c_discounted_price(purchase_amount)\n",
    "print(\"Discounted price: $\", round(discounted_price, 2))\n"
   ]
  },
  {
   "cell_type": "markdown",
   "id": "01c87109-efcc-46db-8066-a185a53082a4",
   "metadata": {},
   "source": [
    "## 27. Develop a program to calculate the electricity bill based on different consumption slabs using elif statements."
   ]
  },
  {
   "cell_type": "code",
   "execution_count": 1,
   "id": "71c3c37a-6ae8-4cde-9cce-423c6931a900",
   "metadata": {},
   "outputs": [
    {
     "name": "stdin",
     "output_type": "stream",
     "text": [
      "Enter the Unit Consumed 7000\n",
      "Enter the Criteria used. eg: 1 or 2 3\n"
     ]
    },
    {
     "name": "stdout",
     "output_type": "stream",
     "text": [
      "2100000\n"
     ]
    }
   ],
   "source": [
    "c1 = 100\n",
    "c2 = 200\n",
    "c3 = 300\n",
    "\n",
    "\n",
    "unit = int(input('Enter the Unit Consumed'))\n",
    "cr = int(input('Enter the Criteria used. eg: 1 or 2'))\n",
    "\n",
    "if cr==1:\n",
    "    print(c1*unit)\n",
    "elif cr==2:\n",
    "    print(c2*unit)\n",
    "elif cr==3:\n",
    "    print(c3*unit)\n",
    "else:\n",
    "    print('Please Enter a Correct Values into Input Box.')"
   ]
  },
  {
   "cell_type": "code",
   "execution_count": 27,
   "id": "5f105559-c74c-4343-af94-ffcebffa40fb",
   "metadata": {},
   "outputs": [
    {
     "name": "stdin",
     "output_type": "stream",
     "text": [
      "enter month 2\n"
     ]
    },
    {
     "name": "stdout",
     "output_type": "stream",
     "text": [
      "2 month is winter\n"
     ]
    }
   ],
   "source": [
    "season_spring = [3,4,5]\n",
    "season_summer = [6,7,8]\n",
    "season_autumn = [9,10,11]\n",
    "season_winter = [12,1,2]\n",
    "\n",
    "month = int(input(\"enter month\"))\n",
    "\n",
    "if month in season_spring:\n",
    "    print(f\"{month} month is spring\")\n",
    "elif month in season_summer:\n",
    "    print(f\"{month} month is summer\")\n",
    "elif month in season_autumn:\n",
    "    print(f\"{month} month is autumn\")\n",
    "elif month in season_winter:\n",
    "    print(f\"{month} month is winter\")\n",
    "else:\n",
    "    print(f\"invalid month {month}\")\n"
   ]
  },
  {
   "cell_type": "markdown",
   "id": "d07b23b8-7736-4e9c-ba29-f73184c9c475",
   "metadata": {},
   "source": [
    "# Basic Level:"
   ]
  },
  {
   "cell_type": "markdown",
   "id": "d156c301-94ee-4ce2-a7ff-fe447d81c1e7",
   "metadata": {},
   "source": [
    "## 1. Write a Python program that checks if a given number is positive, negative, or zero."
   ]
  },
  {
   "cell_type": "code",
   "execution_count": 36,
   "id": "6ce0af17-1164-4ad4-8d58-3c38d3810871",
   "metadata": {},
   "outputs": [
    {
     "name": "stdin",
     "output_type": "stream",
     "text": [
      "enter a number 1\n"
     ]
    },
    {
     "name": "stdout",
     "output_type": "stream",
     "text": [
      "1 is positive\n"
     ]
    }
   ],
   "source": [
    "num = int(input(\"enter a number\"))\n",
    "          \n",
    "if num > 0:\n",
    "    print(f\"{num} is positive\")\n",
    "elif num < 0:\n",
    "    print(f\"{num} is negative\")\n",
    "elif num == 0:\n",
    "    print(f\"{num} is zero\")\n",
    "else:\n",
    "    print(f\"{num} is invalid\")"
   ]
  },
  {
   "cell_type": "markdown",
   "id": "d8d14240-64e8-41ee-a502-03a37a98ee6f",
   "metadata": {},
   "source": [
    "## 2. Create a program to determine if a person is eligible to vote based on their age."
   ]
  },
  {
   "cell_type": "code",
   "execution_count": null,
   "id": "3cc35200-30f0-41ef-ba14-5bd368810b5c",
   "metadata": {},
   "outputs": [],
   "source": [
    "try:\n",
    "    age = int(input(\"enter your age\"))\n",
    "    if  18 <= age <=150:\n",
    "        print(\"you are eligible to vote\")\n",
    "    elif 0 < age <18:\n",
    "        print(\"you are not eligible to vote\")\n",
    "    else:\n",
    "        print(\"invalid input\")\n",
    "except ValueError:\n",
    "    print(f\"age is not a number please enter a number\")"
   ]
  },
  {
   "cell_type": "markdown",
   "id": "6568949b-d98e-40cb-bd91-e5484dfb95c8",
   "metadata": {},
   "source": [
    "## 3. Write a program to find the maximum of two given numbers using conditional statements."
   ]
  },
  {
   "cell_type": "code",
   "execution_count": 65,
   "id": "e10290d5-21ac-4e1d-8dc1-d062fe992e25",
   "metadata": {},
   "outputs": [
    {
     "name": "stdin",
     "output_type": "stream",
     "text": [
      "enter first number 5\n",
      "enter second number 5\n"
     ]
    },
    {
     "name": "stdout",
     "output_type": "stream",
     "text": [
      "5 is equal equal to 5\n"
     ]
    }
   ],
   "source": [
    "try:\n",
    "    num_1 = int(input(\"enter first number\"))\n",
    "    num_2 = int(input(\"enter second number\"))\n",
    "    \n",
    "    if num_1 > num_2:\n",
    "        print(f\"{num_1} number is greter then {num_2} number\")\n",
    "    elif num_2 > num_1:\n",
    "        print(f\"{num_2} number is greater than {num_1} number\")\n",
    "    elif num_1 == num_2:\n",
    "        print(f\"{num_1} is equal equal to {num_2}\")\n",
    "    else:\n",
    "        print(\"invalid input\")\n",
    "except ValueError:\n",
    "    print(\"enter a vaild number \")"
   ]
  },
  {
   "cell_type": "markdown",
   "id": "784ba822-002c-406a-9815-cbeb18c4efdc",
   "metadata": {},
   "source": [
    "## 4. Develop a program that calculates the grade of a student based on their exam score."
   ]
  },
  {
   "cell_type": "code",
   "execution_count": 12,
   "id": "da711f78-a79a-499c-b98e-e3946d555d08",
   "metadata": {},
   "outputs": [
    {
     "name": "stdin",
     "output_type": "stream",
     "text": [
      "enter your masks  100\n"
     ]
    },
    {
     "name": "stdout",
     "output_type": "stream",
     "text": [
      " your grade is A+\n"
     ]
    }
   ],
   "source": [
    "try:\n",
    "    score = int(input(\"enter your masks \"))\n",
    "    if score >=0 and score < 101:\n",
    "        if 85 <= score <=100:\n",
    "            print(\" your grade is A+\")\n",
    "        elif 70 <= score <=84:\n",
    "            print(\"your grade is A\")\n",
    "        elif 60 <= score <=69:\n",
    "            print(\"your grade is B+\")\n",
    "        elif 54 <= score <= 59:\n",
    "            print(\"your grade is B\")\n",
    "        elif 33 <= score <= 53:\n",
    "            print(\"your grade is C\")\n",
    "        else:\n",
    "            print(\"you are fail\")\n",
    "    else:\n",
    "        raise ValueError\n",
    "except ValueError:\n",
    "    print(\"invalid number \")\n"
   ]
  },
  {
   "cell_type": "markdown",
   "id": "d9d47b9e-1326-4b21-8274-ea21e11c5d1c",
   "metadata": {},
   "source": [
    "## 5. Create a program that checks if a year is a leap year or not."
   ]
  },
  {
   "cell_type": "code",
   "execution_count": 93,
   "id": "0c292a0a-e023-4a75-adf5-f10a7446acd7",
   "metadata": {},
   "outputs": [
    {
     "name": "stdin",
     "output_type": "stream",
     "text": [
      "enter a year dvfgvf\n"
     ]
    },
    {
     "name": "stdout",
     "output_type": "stream",
     "text": [
      "invalid year\n"
     ]
    }
   ],
   "source": [
    "try:\n",
    "    year = int(input(\"enter a year\"))\n",
    "    if (year % 4==0 and year % 100 != 0) or (year % 400 == 0 ):\n",
    "        print(f\"{year} is a leap year\")\n",
    "    else:\n",
    "        print(f\"{year} is not a leap year\")\n",
    "except ValueError:\n",
    "    print(\"invalid year\")"
   ]
  },
  {
   "cell_type": "markdown",
   "id": "f5fc9f8d-eb0f-4c2c-b17d-a46f25567256",
   "metadata": {},
   "source": [
    "## 6. Write a program to classify a triangle based on its sides' lengths."
   ]
  },
  {
   "cell_type": "code",
   "execution_count": 7,
   "id": "e6e02b84-1c48-49b1-a58b-da5ab0f61e99",
   "metadata": {},
   "outputs": [
    {
     "name": "stdin",
     "output_type": "stream",
     "text": [
      "enter the length of side1 55\n",
      "enter the length of side2 454\n",
      "enter the length of side3 5656\n"
     ]
    },
    {
     "name": "stdout",
     "output_type": "stream",
     "text": [
      "scalene tringle\n"
     ]
    }
   ],
   "source": [
    "try:\n",
    "    side1 =float(input(\"enter the length of side1\"))\n",
    "    side2 =float(input(\"enter the length of side2\"))\n",
    "    side3 =float(input(\"enter the length of side3\"))\n",
    "    if side1 == side2 == side3:\n",
    "        print(\"Equilateral tringle\")\n",
    "    elif side1 == side2 or side1 == side3 or side2 == side3:\n",
    "        print(\"isosceles triangle\")\n",
    "    else:\n",
    "        print(\"scalene tringle\")\n",
    "except ValueError:\n",
    "     print(\"invalid length\")"
   ]
  },
  {
   "cell_type": "markdown",
   "id": "6436f006-0dd9-43a9-ba12-da852cebe13d",
   "metadata": {},
   "source": [
    "## 7. Build a program that determines the largest of three given numbers."
   ]
  },
  {
   "cell_type": "code",
   "execution_count": 21,
   "id": "0a9afd04-21fe-4849-a817-1b2ec2e9e4c8",
   "metadata": {},
   "outputs": [
    {
     "name": "stdin",
     "output_type": "stream",
     "text": [
      "enter first number 16554121\n",
      "enter second number 3556252.562\n",
      "enter third number 692265632.551516\n"
     ]
    },
    {
     "name": "stdout",
     "output_type": "stream",
     "text": [
      "692265632.551516 is largest\n"
     ]
    }
   ],
   "source": [
    "try:\n",
    "    num1 = float(input(\"enter first number\"))\n",
    "    num2 = float(input(\"enter second number\"))\n",
    "    num3 = float(input(\"enter third number\"))\n",
    "    \n",
    "    if num1 > num2 and num1 > num3:\n",
    "        print(f\"{num1} is largest\")\n",
    "    elif num2 > num1 and num2 > num3:\n",
    "        print(f\"{num2} is largest\")\n",
    "    elif num3 > num2 and num3 > num1:\n",
    "        print(f\"{num3} is largest\")\n",
    "    else:\n",
    "        print(\"all number is equal\")\n",
    "except ValueError:\n",
    "    print(\"invalid number\")  "
   ]
  },
  {
   "cell_type": "markdown",
   "id": "18906b98-a751-4f35-ac70-59ef96e83a55",
   "metadata": {},
   "source": [
    "## Develop a program that checks whether a character is a vowel or a consonant."
   ]
  },
  {
   "cell_type": "code",
   "execution_count": 36,
   "id": "1dbd27d8-41b0-4d5e-b9f5-cbf5bc6570f1",
   "metadata": {},
   "outputs": [
    {
     "name": "stdin",
     "output_type": "stream",
     "text": [
      "enter your character h\n"
     ]
    },
    {
     "name": "stdout",
     "output_type": "stream",
     "text": [
      "h is a consonant\n"
     ]
    }
   ],
   "source": [
    "try:\n",
    "    vowel = \"aeiouAEIOU\"\n",
    "    char = str(input(\"enter your character\"))\n",
    "    if char in vowel:\n",
    "        print(f\"{char} is a vowel\")\n",
    "    else:\n",
    "        print(f\"{char} is a consonant\")\n",
    "except TypeError:\n",
    "    print(f\"{char} is not character please enter valid character\")"
   ]
  },
  {
   "cell_type": "markdown",
   "id": "564e2c79-0f4a-4938-ac71-68ff048e9c37",
   "metadata": {},
   "source": [
    "## 9. Create a program to calculate the total cost of a shopping cart based on discounts."
   ]
  },
  {
   "cell_type": "code",
   "execution_count": 52,
   "id": "d10ed769-e787-434a-a127-845dbd81cf71",
   "metadata": {},
   "outputs": [
    {
     "name": "stdin",
     "output_type": "stream",
     "text": [
      "enter price 200\n",
      "enter quantity 5\n"
     ]
    },
    {
     "name": "stdout",
     "output_type": "stream",
     "text": [
      "Total cost: $980.0\n"
     ]
    }
   ],
   "source": [
    "price = int(input(\"enter price\"))\n",
    "quantity = int(input(\"enter quantity\"))\n",
    "\n",
    "if price > 100:\n",
    "    total_cost = price * quantity * 0.98 \n",
    "    print(f\"Total cost: ${total_cost}\")\n",
    "else:\n",
    "    total_cost = price * quantity\n",
    "    print(f\"Total cost: ${total_cost}\")"
   ]
  },
  {
   "cell_type": "markdown",
   "id": "5a68b779-a0a1-46b0-9ddb-a1e8b39d0d8c",
   "metadata": {},
   "source": [
    "## 10. Write a program that checks if a given number is even or odd."
   ]
  },
  {
   "cell_type": "code",
   "execution_count": 63,
   "id": "bbe1b349-6699-42e6-8228-f8317e263e86",
   "metadata": {},
   "outputs": [
    {
     "name": "stdin",
     "output_type": "stream",
     "text": [
      "enter your number 3\n"
     ]
    },
    {
     "name": "stdout",
     "output_type": "stream",
     "text": [
      "3 is odd\n"
     ]
    }
   ],
   "source": [
    "try:\n",
    "    number = int(input(\"enter your number\"))\n",
    "    \n",
    "    if number % 2 == 0:\n",
    "        print(f\"{number} is even\")\n",
    "    else:\n",
    "        print(f\"{number} is odd\")\n",
    "except ValueError:\n",
    "        print(\"please enter a number \") "
   ]
  },
  {
   "cell_type": "markdown",
   "id": "a1a4ad2b-7a6a-4a32-ab30-4f4889cd308e",
   "metadata": {},
   "source": [
    "# Intermediate Level:"
   ]
  },
  {
   "cell_type": "markdown",
   "id": "3de28537-03da-4dbb-8d6e-0ff53b47a5a0",
   "metadata": {},
   "source": [
    "## 12. Create a program that determines the day of the week based on the day number (1-7)."
   ]
  },
  {
   "cell_type": "code",
   "execution_count": 44,
   "id": "e132e7fc-80c8-4dbb-9c2c-43dc7ab56146",
   "metadata": {},
   "outputs": [
    {
     "name": "stdin",
     "output_type": "stream",
     "text": [
      " enter a number 7\n"
     ]
    },
    {
     "name": "stdout",
     "output_type": "stream",
     "text": [
      "sunday\n"
     ]
    }
   ],
   "source": [
    "try:\n",
    "    number = int(input(\" enter a number\")) \n",
    "    if number >=1 and number <8:\n",
    "            if number == 1:\n",
    "                print(\"monday\")\n",
    "            elif number ==2:\n",
    "                print(\"tuesday\")\n",
    "            elif number  == 3:\n",
    "                print(\"wednesday\")\n",
    "            elif number == 4:\n",
    "                print(\"thursday\")\n",
    "            elif number == 5:\n",
    "                print(\"friday\")\n",
    "            elif number == 6:\n",
    "                print(\"saturday\")\n",
    "            elif number == 7:\n",
    "                print(\"sunday\")\n",
    "    else:\n",
    "        print(\"invalid input\")\n",
    "except ValueError:\n",
    "    print(f\"please enter a number\")"
   ]
  },
  {
   "cell_type": "markdown",
   "id": "12d76ce4-bc2d-40b7-be9d-4a941d7e0304",
   "metadata": {},
   "source": [
    "## 13. Develop a program that calculates the factorial of a given number using recursion."
   ]
  },
  {
   "cell_type": "code",
   "execution_count": 49,
   "id": "32e670c0-9273-4785-ad53-b117339ca50c",
   "metadata": {},
   "outputs": [
    {
     "name": "stdin",
     "output_type": "stream",
     "text": [
      "enter a number bhjb\n"
     ]
    },
    {
     "name": "stdout",
     "output_type": "stream",
     "text": [
      "please enter a number\n"
     ]
    }
   ],
   "source": [
    "try:\n",
    "    num = int(input(\"enter a number\"))\n",
    "    if num < 0:\n",
    "        print(\"Factorial is not defined for negative numbers.\")\n",
    "    elif num == 0:\n",
    "        print(\"Factorial of 0 is 1.\")\n",
    "    else:\n",
    "        factorial = 1\n",
    "    for i in range(1, num + 1):\n",
    "        factorial *= i\n",
    "    print(\"Factorial of\", num, \"is\", factorial)\n",
    "    \n",
    "except ValueError:\n",
    "    print(\"please enter a number\")"
   ]
  },
  {
   "cell_type": "markdown",
   "id": "433bb27e-f1fb-4aa5-bb1e-5c1442756cb3",
   "metadata": {},
   "source": [
    "## 14. Write a program to find the largest among three numbers without using the `max()` function."
   ]
  },
  {
   "cell_type": "code",
   "execution_count": 58,
   "id": "f4a71901-30f4-48f6-b5d8-72d0dbd1cc7d",
   "metadata": {},
   "outputs": [
    {
     "name": "stdin",
     "output_type": "stream",
     "text": [
      "enter first number 1\n",
      "enter second number 2\n",
      "enter third number 3\n"
     ]
    },
    {
     "name": "stdout",
     "output_type": "stream",
     "text": [
      "third number is greaer than second and first\n"
     ]
    }
   ],
   "source": [
    "try:\n",
    "    num_1 = int(input(\"enter first number\"))\n",
    "    num_2 = int(input(\"enter second number\"))\n",
    "    num_3 = int(input(\"enter third number\"))\n",
    "    \n",
    "    if num_1 > num_2 and num_1 > num_3:\n",
    "        print(\"first number is greaater than number second and third\")\n",
    "    elif num_2 > num_1 and num_2 > num_3:\n",
    "        print(\"second number is greater than first and third\")\n",
    "    elif num_3 > num_1 and num_3 > num_2:\n",
    "        print(\"third number is greaer than second and first\")\n",
    "    else:\n",
    "        print(\"all numbers are equal\")   \n",
    "except ValueError:\n",
    "    print(\"enter a number\")"
   ]
  },
  {
   "cell_type": "markdown",
   "id": "4b8d6c9f-1cc2-4c2b-9a3f-efb8a7ccd42b",
   "metadata": {},
   "source": [
    "## 15. Create a program that simulates a basic ATM transaction menu."
   ]
  },
  {
   "cell_type": "code",
   "execution_count": 65,
   "id": "d0e3a5f0-ff4a-4508-9723-cd4b7beca6ea",
   "metadata": {},
   "outputs": [
    {
     "name": "stdout",
     "output_type": "stream",
     "text": [
      "Welcome to the ATM!\n",
      "1. Check Balance\n",
      "2. Deposit\n",
      "3. Withdraw\n",
      "4. Quit\n"
     ]
    },
    {
     "name": "stdin",
     "output_type": "stream",
     "text": [
      "Enter your choice (1-4):  4\n"
     ]
    },
    {
     "name": "stdout",
     "output_type": "stream",
     "text": [
      "Thank you for using the ATM. Goodbye!\n"
     ]
    }
   ],
   "source": [
    "try:\n",
    "    balance = 1000\n",
    "\n",
    "    while True:\n",
    "        print(\"Welcome to the ATM!\")\n",
    "        print(\"1. Check Balance\")\n",
    "        print(\"2. Deposit\")\n",
    "        print(\"3. Withdraw\")\n",
    "        print(\"4. Quit\")\n",
    "\n",
    "        choice = int(input(\"Enter your choice (1-4): \"))\n",
    "        if choice >= 1 and choice <5:\n",
    "            if choice == 1:\n",
    "                print(f\"your balance is {balance}\")\n",
    "                break\n",
    "                \n",
    "            elif choice == 2:\n",
    "                amount = float(input(\"Enter deposit amount\"))\n",
    "                balance += amount\n",
    "                print(f\"deposited successfully {amount}\")\n",
    "                break\n",
    "            elif choice == 3:\n",
    "                amount = float(input(\"Enter withdrawal amount: $\"))\n",
    "                if amount <= balance:\n",
    "                    balance -= amount\n",
    "                    print(\"withdrawn successfully{amount}\")\n",
    "                    break\n",
    "                else:\n",
    "                    print(\"Insufficient funds.\")\n",
    "                    break\n",
    "            elif choice == 4:\n",
    "                print(\"Thank you for using the ATM. Goodbye!\")\n",
    "                break\n",
    "        else:\n",
    "            print(\"Invalid choice. Please enter a number between 1 and 4.\")\n",
    "        \n",
    "except ValueError:\n",
    "    print(f\" {choice} is not valid number\")              \n",
    "        "
   ]
  },
  {
   "cell_type": "markdown",
   "id": "6a6e2e06-39dc-4968-83db-76eeb26e2e9a",
   "metadata": {},
   "source": [
    "## 16. Build a program that checks if a given string is a palindrome or not."
   ]
  },
  {
   "cell_type": "code",
   "execution_count": 103,
   "id": "c7456247-f8be-4d5b-8f6d-5da92470e51f",
   "metadata": {},
   "outputs": [
    {
     "name": "stdin",
     "output_type": "stream",
     "text": [
      "enter a string yay\n"
     ]
    },
    {
     "name": "stdout",
     "output_type": "stream",
     "text": [
      "the string is palindrome\n"
     ]
    }
   ],
   "source": [
    "try:\n",
    "    string = str(input(\"enter a string\"))\n",
    "    if any(char.isdigit() for char in string):\n",
    "        print(\"Numeric value not valid.\")\n",
    "    else:\n",
    "        string = string.replace(\" \",\"\").lower()\n",
    "    \n",
    "        if string == string[::-1]:\n",
    "            print(\"the string is palindrome\")\n",
    "        else:\n",
    "            print(\"the string is not palindrome\")\n",
    "except ValueError:\n",
    "    print(\"please a string\")"
   ]
  },
  {
   "cell_type": "markdown",
   "id": "2cafced7-0a4f-44fb-80e7-f5d47fb4db71",
   "metadata": {},
   "source": [
    "## 18. Develop a program that converts a given temperature from Celsius to Fahrenheit."
   ]
  },
  {
   "cell_type": "code",
   "execution_count": 1,
   "id": "9f33d752-0084-4ea4-a496-d1304d974540",
   "metadata": {},
   "outputs": [
    {
     "name": "stdin",
     "output_type": "stream",
     "text": [
      "Enter temperature in Celsius:  50\n"
     ]
    },
    {
     "name": "stdout",
     "output_type": "stream",
     "text": [
      "Temperature in Fahrenheit: 122.0\n"
     ]
    }
   ],
   "source": [
    "try:\n",
    "    celsius = float(input(\"Enter temperature in Celsius: \"))\n",
    "    fahrenheit = (celsius * 9/5) + 32\n",
    "    print(\"Temperature in Fahrenheit:\", fahrenheit)\n",
    "except ValueError:\n",
    "    print(\"Please enter a valid temperature.\")\n"
   ]
  },
  {
   "cell_type": "markdown",
   "id": "a8605270-ccec-488d-a0f3-a4102f9b8750",
   "metadata": {},
   "source": [
    "## 19. Create a program that simulates a basic calculator for addition, subtraction, multiplication, and division.\n"
   ]
  },
  {
   "cell_type": "code",
   "execution_count": null,
   "id": "ffd15b20-a462-46e5-b9b5-85ee206fd0eb",
   "metadata": {},
   "outputs": [
    {
     "name": "stdout",
     "output_type": "stream",
     "text": [
      "Welcome to the Basic Calculator!\n",
      "1. Addition\n",
      "2. Subtraction\n",
      "3. Multiplication\n",
      "4. Division\n",
      "5. Quit\n"
     ]
    },
    {
     "name": "stdin",
     "output_type": "stream",
     "text": [
      "Enter your choice (1-5):  4\n"
     ]
    },
    {
     "name": "stdout",
     "output_type": "stream",
     "text": [
      "Welcome to the Basic Calculator!\n",
      "1. Addition\n",
      "2. Subtraction\n",
      "3. Multiplication\n",
      "4. Division\n",
      "5. Quit\n"
     ]
    },
    {
     "name": "stdin",
     "output_type": "stream",
     "text": [
      "Enter your choice (1-5):  454\n"
     ]
    },
    {
     "name": "stdout",
     "output_type": "stream",
     "text": [
      "Welcome to the Basic Calculator!\n",
      "1. Addition\n",
      "2. Subtraction\n",
      "3. Multiplication\n",
      "4. Division\n",
      "5. Quit\n"
     ]
    },
    {
     "name": "stdin",
     "output_type": "stream",
     "text": [
      "Enter your choice (1-5):  5\n"
     ]
    },
    {
     "name": "stdout",
     "output_type": "stream",
     "text": [
      "Thank you for using the calculator. Goodbye!\n"
     ]
    }
   ],
   "source": [
    "try:    \n",
    "    while True:\n",
    "        print(\"Welcome to the Basic Calculator!\")\n",
    "        print(\"1. Addition\")\n",
    "        print(\"2. Subtraction\")\n",
    "        print(\"3. Multiplication\")\n",
    "        print(\"4. Division\")\n",
    "        print(\"5. Quit\")\n",
    "\n",
    "        choice = input(\"Enter your choice (1-5): \")\n",
    "\n",
    "        if choice == '5':\n",
    "            print(\"Thank you for using the calculator. Goodbye!\")\n",
    "            break\n",
    "\n",
    "\n",
    "            num1 = float(input(\"Enter the first number: \"))\n",
    "            num2 = float(input(\"Enter the second number: \"))\n",
    "\n",
    "            if choice == '1':\n",
    "                result = num1 + num2\n",
    "                print(\"Result:\", result)\n",
    "                break\n",
    "            elif choice == '2':\n",
    "                result = num1 - num2\n",
    "                print(\"Result:\", result)\n",
    "                break\n",
    "            elif choice == '3':\n",
    "                result = num1 * num2\n",
    "                print(\"Result:\", result)\n",
    "                break\n",
    "            elif choice == '4':\n",
    "                if num2 != 0:\n",
    "                    result = num1 / num2\n",
    "                    print(\"Result:\", result)\n",
    "                    break\n",
    "                else:\n",
    "                    print(\"Cannot divide by zero.\")\n",
    "            else:\n",
    "                print(\"Invalid choice. Please enter a number between 1 and 5.\")\n",
    "except ValueError:\n",
    "    print(\"Please enter valid numbers.\")\n"
   ]
  },
  {
   "cell_type": "markdown",
   "id": "da2ab6d8-b2e2-4498-9e0c-fc148d0636a7",
   "metadata": {},
   "source": [
    "## 21. Create a program that calculates the income tax based on the user's income and tax brackets."
   ]
  },
  {
   "cell_type": "code",
   "execution_count": 14,
   "id": "b6de3f98-1300-4474-abcc-ec1ad612ff03",
   "metadata": {},
   "outputs": [
    {
     "name": "stdin",
     "output_type": "stream",
     "text": [
      "Enter your income: $ 5000000000000000000000000000\n"
     ]
    },
    {
     "name": "stdout",
     "output_type": "stream",
     "text": [
      "Your income tax is: $1850000000000000010838081536.00\n"
     ]
    }
   ],
   "source": [
    "try:\n",
    "    income = float(input(\"Enter your income: $\"))\n",
    "\n",
    "    if income <= 0:\n",
    "        print(\"Invalid income amount. Please enter a positive number.\")\n",
    "    else:\n",
    "        if income <= 9875:\n",
    "            tax = income * 0.10\n",
    "        elif income <= 40125:\n",
    "            tax = 987.50 + (income - 9875) * 0.12\n",
    "        elif income <= 85525:\n",
    "            tax = 4617.50 + (income - 40125) * 0.22\n",
    "        elif income <= 163300:\n",
    "            tax = 14605.50 + (income - 85525) * 0.24\n",
    "        elif income <= 207350:\n",
    "            tax = 33271.50 + (income - 163300) * 0.32\n",
    "        elif income <= 518400:\n",
    "            tax = 47367.50 + (income - 207350) * 0.35\n",
    "        else:\n",
    "            tax = 156235 + (income - 518400) * 0.37\n",
    "\n",
    "        print(\"Your income tax is: ${:.2f}\".format(tax))\n",
    "except ValueError:\n",
    "    print(\"Invalid input. Please enter a valid income amount.\")\n"
   ]
  },
  {
   "cell_type": "markdown",
   "id": "d92e3426-1646-41b7-965d-b0268071e50b",
   "metadata": {},
   "source": [
    "## 22. Write a program that simulates a rock-paper-scissors game against the computer."
   ]
  },
  {
   "cell_type": "code",
   "execution_count": 42,
   "id": "658b6616-706c-4262-87b2-6f90d6a2c04f",
   "metadata": {},
   "outputs": [
    {
     "name": "stdout",
     "output_type": "stream",
     "text": [
      "Welcome to Rock Paper Scissors\n"
     ]
    },
    {
     "name": "stdin",
     "output_type": "stream",
     "text": [
      "Enter your Choice (rock, Paper, or scissors):  1\n"
     ]
    },
    {
     "name": "stdout",
     "output_type": "stream",
     "text": [
      "Invalid input. Please enter either rock, paper, or scissors.\n"
     ]
    },
    {
     "name": "stdin",
     "output_type": "stream",
     "text": [
      "Enter your Choice (rock, Paper, or scissors):  paper\n"
     ]
    },
    {
     "name": "stdout",
     "output_type": "stream",
     "text": [
      "Your choice is paper\n",
      "My choice is scissors\n",
      "I win\n"
     ]
    }
   ],
   "source": [
    "import random\n",
    "\n",
    "print(\"Welcome to Rock Paper Scissors\")\n",
    "\n",
    "options = [\"rock\", \"paper\", \"scissors\"]\n",
    "\n",
    "while True:\n",
    "    player_choice = input(\"Enter your Choice (rock, Paper, or scissors): \").lower()\n",
    "    if player_choice in options:\n",
    "        break\n",
    "    else:\n",
    "        print(\"Invalid input. Please enter either rock, paper, or scissors.\")\n",
    "random_choice = random.choice(options)\n",
    "\n",
    "print(\"Your choice is\", player_choice)\n",
    "print(\"My choice is\", random_choice)\n",
    "\n",
    "if player_choice == random_choice:\n",
    "    print(\"It is a tie\")\n",
    "elif (player_choice == \"rock\" and random_choice == \"scissors\") or \\\n",
    "    (player_choice == \"paper\" and random_choice == \"rock\") or \\\n",
    "    (player_choice == \"scissors\" and random_choice == \"paper\"):\n",
    "    print(\"You win\")\n",
    "else:\n",
    "    print(\"I win\")\n"
   ]
  },
  {
   "cell_type": "markdown",
   "id": "7bcbb4c1-76f0-47c5-8397-50319694d441",
   "metadata": {},
   "source": [
    "## 23. Develop a program that generates a random password based on user preferences (length, complexity)."
   ]
  },
  {
   "cell_type": "code",
   "execution_count": 65,
   "id": "7b74cd05-30b9-46c6-889a-87584c7f0240",
   "metadata": {},
   "outputs": [
    {
     "name": "stdout",
     "output_type": "stream",
     "text": [
      "welcom to Random password Generator\n"
     ]
    },
    {
     "name": "stdin",
     "output_type": "stream",
     "text": [
      "Enter the length of the password:  9\n",
      "Enter the desired complexity (weak, medium, strong):  weak\n"
     ]
    },
    {
     "name": "stdout",
     "output_type": "stream",
     "text": [
      "Your Ramdomly Genrated password is awirsaubq\n"
     ]
    }
   ],
   "source": [
    "import random\n",
    "import string\n",
    "\n",
    "print(\"welcom to Random password Generator\")\n",
    "\n",
    "option = [\"weak\",\"medium\",\"strong\"]\n",
    "length = int(input(\"Enter the length of the password: \"))\n",
    "    \n",
    "while True:\n",
    "    complexity = input(\"Enter the desired complexity (weak, medium, strong): \").lower()\n",
    "    if complexity in option:\n",
    "        break\n",
    "    else:\n",
    "        print(\"Invalid input. Please enter either weak, medium, or strong.\")\n",
    "        \n",
    "password = \"\"\n",
    "\n",
    "if complexity == \"weak\":\n",
    "    password = \"\".join(random.choices(string.ascii_lowercase, k=length))\n",
    "elif complexity == \"medium\":\n",
    "    password = \"\".join(random.choices(string.ascii_letters + string.digits, k=length))\n",
    "elif complexity == \"strong\":\n",
    "    password = \"\".join(random.choices(string.ascii_letters + string.digits + string.punctuation, k=length))\n",
    "else:\n",
    "    print(\"Invalid complexity level. Please choose from weak, medium, or strong.\")\n",
    "          \n",
    "print(\"Your Ramdomly Genrated password is\", password)  \n",
    "    \n",
    "    \n"
   ]
  },
  {
   "cell_type": "code",
   "execution_count": 68,
   "id": "9dd584bb-7515-430b-bd25-1cabecc0a029",
   "metadata": {},
   "outputs": [
    {
     "name": "stdout",
     "output_type": "stream",
     "text": [
      "Welcome to the Text Adventure Game with Friends!\n",
      "\n",
      "You and your friends wake up in a mysterious forest after a camping trip.\n",
      "You see a path leading deeper into the forest and a clearing to your right.\n",
      "\n",
      "What would you like to do?\n",
      "1. Follow the path into the forest\n",
      "2. Explore the clearing\n",
      "3. Stay put and set up camp\n"
     ]
    },
    {
     "name": "stdin",
     "output_type": "stream",
     "text": [
      "Enter your choice (1, 2, or 3):  1\n"
     ]
    },
    {
     "name": "stdout",
     "output_type": "stream",
     "text": [
      "\n",
      "You and your friends follow the path into the forest.\n",
      "As you walk, you hear strange sounds coming from the bushes.\n",
      "What do you do next?\n",
      "1. Investigate the sounds\n",
      "2. Continue along the path\n"
     ]
    },
    {
     "name": "stdin",
     "output_type": "stream",
     "text": [
      "Enter your choice (1 or 2):  1\n"
     ]
    },
    {
     "name": "stdout",
     "output_type": "stream",
     "text": [
      "\n",
      "You cautiously approach the bushes and find a lost puppy!\n",
      "You decide to take it with you on your adventure.\n",
      "Your group feels happy and continues the journey.\n",
      "\n",
      "What would you like to do?\n",
      "1. Follow the path into the forest\n",
      "2. Explore the clearing\n",
      "3. Stay put and set up camp\n"
     ]
    },
    {
     "name": "stdin",
     "output_type": "stream",
     "text": [
      "Enter your choice (1, 2, or 3):  1\n"
     ]
    },
    {
     "name": "stdout",
     "output_type": "stream",
     "text": [
      "\n",
      "You and your friends follow the path into the forest.\n",
      "As you walk, you hear strange sounds coming from the bushes.\n",
      "What do you do next?\n",
      "1. Investigate the sounds\n",
      "2. Continue along the path\n"
     ]
    },
    {
     "name": "stdin",
     "output_type": "stream",
     "text": [
      "Enter your choice (1 or 2):  1\n"
     ]
    },
    {
     "name": "stdout",
     "output_type": "stream",
     "text": [
      "\n",
      "You cautiously approach the bushes and find a lost puppy!\n",
      "You decide to take it with you on your adventure.\n",
      "Your group feels happy and continues the journey.\n",
      "\n",
      "What would you like to do?\n",
      "1. Follow the path into the forest\n",
      "2. Explore the clearing\n",
      "3. Stay put and set up camp\n"
     ]
    },
    {
     "name": "stdin",
     "output_type": "stream",
     "text": [
      "Enter your choice (1, 2, or 3):  1\n"
     ]
    },
    {
     "name": "stdout",
     "output_type": "stream",
     "text": [
      "\n",
      "You and your friends follow the path into the forest.\n",
      "As you walk, you hear strange sounds coming from the bushes.\n",
      "What do you do next?\n",
      "1. Investigate the sounds\n",
      "2. Continue along the path\n"
     ]
    },
    {
     "name": "stdin",
     "output_type": "stream",
     "text": [
      "Enter your choice (1 or 2):  1\n"
     ]
    },
    {
     "name": "stdout",
     "output_type": "stream",
     "text": [
      "\n",
      "You cautiously approach the bushes and find a lost puppy!\n",
      "You decide to take it with you on your adventure.\n",
      "Your group feels happy and continues the journey.\n",
      "\n",
      "What would you like to do?\n",
      "1. Follow the path into the forest\n",
      "2. Explore the clearing\n",
      "3. Stay put and set up camp\n"
     ]
    },
    {
     "name": "stdin",
     "output_type": "stream",
     "text": [
      "Enter your choice (1, 2, or 3):  1\n"
     ]
    },
    {
     "name": "stdout",
     "output_type": "stream",
     "text": [
      "\n",
      "You and your friends follow the path into the forest.\n",
      "As you walk, you hear strange sounds coming from the bushes.\n",
      "What do you do next?\n",
      "1. Investigate the sounds\n",
      "2. Continue along the path\n"
     ]
    },
    {
     "name": "stdin",
     "output_type": "stream",
     "text": [
      "Enter your choice (1 or 2):  1\n"
     ]
    },
    {
     "name": "stdout",
     "output_type": "stream",
     "text": [
      "\n",
      "You cautiously approach the bushes and find a lost puppy!\n",
      "You decide to take it with you on your adventure.\n",
      "Your group feels happy and continues the journey.\n",
      "\n",
      "What would you like to do?\n",
      "1. Follow the path into the forest\n",
      "2. Explore the clearing\n",
      "3. Stay put and set up camp\n"
     ]
    },
    {
     "name": "stdin",
     "output_type": "stream",
     "text": [
      "Enter your choice (1, 2, or 3):  1\n"
     ]
    },
    {
     "name": "stdout",
     "output_type": "stream",
     "text": [
      "\n",
      "You and your friends follow the path into the forest.\n",
      "As you walk, you hear strange sounds coming from the bushes.\n",
      "What do you do next?\n",
      "1. Investigate the sounds\n",
      "2. Continue along the path\n"
     ]
    },
    {
     "name": "stdin",
     "output_type": "stream",
     "text": [
      "Enter your choice (1 or 2):  1\n"
     ]
    },
    {
     "name": "stdout",
     "output_type": "stream",
     "text": [
      "\n",
      "You cautiously approach the bushes and find a lost puppy!\n",
      "You decide to take it with you on your adventure.\n",
      "Your group feels happy and continues the journey.\n",
      "\n",
      "What would you like to do?\n",
      "1. Follow the path into the forest\n",
      "2. Explore the clearing\n",
      "3. Stay put and set up camp\n"
     ]
    },
    {
     "name": "stdin",
     "output_type": "stream",
     "text": [
      "Enter your choice (1, 2, or 3):  2\n"
     ]
    },
    {
     "name": "stdout",
     "output_type": "stream",
     "text": [
      "\n",
      "You and your friends explore the clearing and find a hidden cave.\n",
      "You decide to enter the cave to uncover its secrets.\n",
      "Inside the cave, you discover ancient drawings and artifacts.\n",
      "Your adventure becomes even more exciting!\n"
     ]
    }
   ],
   "source": [
    "print(\"Welcome to the Text Adventure Game with Friends!\")\n",
    "\n",
    "print(\"\\nYou and your friends wake up in a mysterious forest after a camping trip.\")\n",
    "print(\"You see a path leading deeper into the forest and a clearing to your right.\")\n",
    "\n",
    "while True:\n",
    "    print(\"\\nWhat would you like to do?\")\n",
    "    print(\"1. Follow the path into the forest\")\n",
    "    print(\"2. Explore the clearing\")\n",
    "    print(\"3. Stay put and set up camp\")\n",
    "\n",
    "    choice = input(\"Enter your choice (1, 2, or 3): \")\n",
    "\n",
    "    if choice == \"1\":\n",
    "        print(\"\\nYou and your friends follow the path into the forest.\")\n",
    "        print(\"As you walk, you hear strange sounds coming from the bushes.\")\n",
    "        print(\"What do you do next?\")\n",
    "        print(\"1. Investigate the sounds\")\n",
    "        print(\"2. Continue along the path\")\n",
    "\n",
    "        next_choice = input(\"Enter your choice (1 or 2): \")\n",
    "\n",
    "        if next_choice == \"1\":\n",
    "            print(\"\\nYou cautiously approach the bushes and find a lost puppy!\")\n",
    "            print(\"You decide to take it with you on your adventure.\")\n",
    "            print(\"Your group feels happy and continues the journey.\")\n",
    "            break\n",
    "            \n",
    "        elif next_choice == \"2\":\n",
    "            print(\"\\nYou continue along the path and reach a serene lake.\")\n",
    "            print(\"You and your friends decide to take a break and swim in the lake.\")\n",
    "        else:\n",
    "            print(\"\\nInvalid choice. Please try again.\")\n",
    "\n",
    "    elif choice == \"2\":\n",
    "        print(\"\\nYou and your friends explore the clearing and find a hidden cave.\")\n",
    "        print(\"You decide to enter the cave to uncover its secrets.\")\n",
    "        print(\"Inside the cave, you discover ancient drawings and artifacts.\")\n",
    "        print(\"Your adventure becomes even more exciting!\")\n",
    "        break\n",
    "\n",
    "    elif choice == \"3\":\n",
    "        print(\"\\nYou and your friends decide to stay put and set up camp.\")\n",
    "        print(\"You build a campfire and spend the evening sharing stories and laughter.\")\n",
    "        print(\"It's a memorable night filled with warmth and friendship.\")\n",
    "        break\n",
    "\n",
    "    else:\n",
    "        print(\"\\nInvalid choice. Please try again.\")\n"
   ]
  },
  {
   "cell_type": "markdown",
   "id": "7a77eb1c-b665-4fbc-96dc-397d2f52f14e",
   "metadata": {},
   "source": [
    "## 26. Write a program that simulates a basic quiz game with multiple-choice questions and scoring."
   ]
  },
  {
   "cell_type": "code",
   "execution_count": 70,
   "id": "4988dd57-16b6-4a85-bb3d-c545c1822bc1",
   "metadata": {},
   "outputs": [
    {
     "name": "stdout",
     "output_type": "stream",
     "text": [
      "Welcome to the Basic Quiz Game!\n",
      "\n",
      "Question 1 : Who is the funder of inuron?\n",
      "A. sudh\n",
      "B. alak\n",
      "C. nitin\n",
      "D. adani\n"
     ]
    },
    {
     "name": "stdin",
     "output_type": "stream",
     "text": [
      "Enter your answer (A, B, C, or D):  a\n"
     ]
    },
    {
     "name": "stdout",
     "output_type": "stream",
     "text": [
      "Correct!\n",
      "\n",
      "Question 2 : Who wrote 'eidgah'?\n",
      "A. bartundu harishchand\n",
      "B. prem chand\n",
      "C. ahmad faraz\n",
      "rabin nath tigore\n"
     ]
    },
    {
     "name": "stdin",
     "output_type": "stream",
     "text": [
      "Enter your answer (A, B, C, or D):  b\n"
     ]
    },
    {
     "name": "stdout",
     "output_type": "stream",
     "text": [
      "Correct!\n",
      "\n",
      "Question 3 : What is the chemical symbol for water?\n",
      "A. H2O\n",
      "B. CO2\n",
      "C. NaCl\n",
      "D. O2\n"
     ]
    },
    {
     "name": "stdin",
     "output_type": "stream",
     "text": [
      "Enter your answer (A, B, C, or D):  a\n"
     ]
    },
    {
     "name": "stdout",
     "output_type": "stream",
     "text": [
      "Correct!\n",
      "\n",
      "Question 4 : What year did the Titanic sink?\n",
      "A. 1912\n",
      "B. 1905\n",
      "C. 1923\n",
      "D. 1939\n"
     ]
    },
    {
     "name": "stdin",
     "output_type": "stream",
     "text": [
      "Enter your answer (A, B, C, or D):  d\n"
     ]
    },
    {
     "name": "stdout",
     "output_type": "stream",
     "text": [
      "Incorrect.\n",
      "\n",
      "Quiz completed! Your score is: 3 out of 4\n"
     ]
    }
   ],
   "source": [
    "print(\"Welcome to the Basic Quiz Game!\")\n",
    "\n",
    "# Define the questions and answers\n",
    "questions = [\n",
    "    \"Who is the funder of i neuron?\",\n",
    "    \"Who wrote 'eidgah'?\",\n",
    "    \"What is the chemical symbol for water?\",\n",
    "    \"What year did the Titanic sink?\"\n",
    "]\n",
    "\n",
    "options = [\n",
    "    [\"A. sudh\", \"B. alak\", \"C. nitin\", \"D. adani\"],\n",
    "    [\"A. bartundu harishchand\", \"B. prem chand\", \"C. ahmad faraz\", \"D. rabin nath tigore\"],\n",
    "    [\"A. H2O\", \"B. CO2\", \"C. NaCl\", \"D. O2\"],\n",
    "    [\"A. 1912\", \"B. 1905\", \"C. 1923\", \"D. 1939\"]\n",
    "]\n",
    "\n",
    "answers = [\"A\", \"B\", \"A\", \"A\"]\n",
    "\n",
    "# Initialize score\n",
    "score = 0\n",
    "\n",
    "# Iterate through questions\n",
    "for i in range(len(questions)):\n",
    "    print(\"\\nQuestion\", i+1, \":\", questions[i])\n",
    "    \n",
    "    # Display options\n",
    "    for option in options[i]:\n",
    "        print(option)\n",
    "    \n",
    "    # Get user's answer\n",
    "    answer = input(\"Enter your answer (A, B, C, or D): \").upper()\n",
    "    \n",
    "    # Check if answer is correct\n",
    "    if answer == answers[i]:\n",
    "        print(\"Correct!\")\n",
    "        score += 1\n",
    "    else:\n",
    "        print(\"Incorrect.\")\n",
    "        \n",
    "# Display final score\n",
    "print(\"\\nQuiz completed! Your score is:\", score, \"out of\", len(questions))\n"
   ]
  },
  {
   "cell_type": "markdown",
   "id": "c533c4de-9a57-4498-9729-a3e20f840404",
   "metadata": {},
   "source": [
    "## 28. Create a program that sorts three numbers in ascending order using conditional statements."
   ]
  },
  {
   "cell_type": "code",
   "execution_count": 73,
   "id": "d9e7b832-2e5c-47e4-bc64-b7894b82c2f0",
   "metadata": {},
   "outputs": [
    {
     "name": "stdin",
     "output_type": "stream",
     "text": [
      "Enter the first number:  5647148075\n",
      "Enter the second number:  5261536554886696\n",
      "Enter the third number:  8968845698996996\n"
     ]
    },
    {
     "name": "stdout",
     "output_type": "stream",
     "text": [
      "Sorted numbers in ascending order: 5647148075.0 5261536554886696.0 8968845698996996.0\n"
     ]
    }
   ],
   "source": [
    "um1 = float(input(\"Enter the first number: \"))\n",
    "num2 = float(input(\"Enter the second number: \"))\n",
    "num3 = float(input(\"Enter the third number: \"))\n",
    "\n",
    "\n",
    "if num1 <= num2 and num1 <= num3:\n",
    "    min_num = num1\n",
    "    if num2 <= num3:\n",
    "        mid_num = num2\n",
    "        max_num = num3\n",
    "    else:\n",
    "        mid_num = num3\n",
    "        max_num = num2\n",
    "elif num2 <= num1 and num2 <= num3:\n",
    "    min_num = num2\n",
    "    if num1 <= num3:\n",
    "        mid_num = num1\n",
    "        max_num = num3\n",
    "    else:\n",
    "        mid_num = num3\n",
    "        max_num = num1\n",
    "else:\n",
    "    min_num = num3\n",
    "    if num1 <= num2:\n",
    "        mid_num = num1\n",
    "        max_num = num2\n",
    "    else:\n",
    "        mid_num = num2\n",
    "        max_num = num1\n",
    "\n",
    "\n",
    "print(\"Sorted numbers in ascending order:\", min_num, mid_num, max_num)\n"
   ]
  },
  {
   "cell_type": "markdown",
   "id": "7c545798-7638-49de-9f4a-843017708150",
   "metadata": {},
   "source": [
    "## 30. Write a program that calculates the BMI (Body Mass Index) and provides health recommendations based on the user's input."
   ]
  },
  {
   "cell_type": "code",
   "execution_count": 76,
   "id": "73337a8f-b657-4b31-bb94-6f9c37e2f7a0",
   "metadata": {},
   "outputs": [
    {
     "name": "stdout",
     "output_type": "stream",
     "text": [
      "Welcome to the BMI Calculator and Health Recommendations Program!\n"
     ]
    },
    {
     "name": "stdin",
     "output_type": "stream",
     "text": [
      "Enter your weight in kilograms:  75\n",
      "Enter your height in meters:  174\n"
     ]
    },
    {
     "name": "stdout",
     "output_type": "stream",
     "text": [
      "Your Body Mass Index (BMI) is: 0.0024772096710265557\n",
      "Your BMI is below the healthy range.\n",
      "Recommendation: You may be underweight. Consider consulting with a healthcare professional.\n"
     ]
    }
   ],
   "source": [
    "print(\"Welcome to the BMI Calculator and Health Recommendations Program!\")\n",
    "\n",
    "\n",
    "weight = float(input(\"Enter your weight in kilograms: \"))\n",
    "height = float(input(\"Enter your height in meters: \"))\n",
    "\n",
    "\n",
    "bmi = weight / (height ** 2)\n",
    "\n",
    "\n",
    "print(\"Your Body Mass Index (BMI) is:\", bmi)\n",
    "\n",
    "if bmi < 18.5:\n",
    "    print(\"Your BMI is below the healthy range.\")\n",
    "    print(\"Recommendation: You may be underweight. Consider consulting with a healthcare professional.\")\n",
    "elif bmi >= 18.5 and bmi < 25:\n",
    "    print(\"Your BMI is within the healthy range.\")\n",
    "    print(\"Recommendation: Maintain a balanced diet and regular exercise routine for overall health.\")\n",
    "elif bmi >= 25 and bmi < 30:\n",
    "    print(\"Your BMI is above the healthy range.\")\n",
    "    print(\"Recommendation: You may be overweight. Consider making dietary and lifestyle changes.\")\n",
    "else:\n",
    "    print(\"Your BMI is in the obese range.\")\n",
    "    print(\"Recommendation: Obesity can lead to various health problems. It's important to seek guidance from a healthcare professional.\")\n"
   ]
  },
  {
   "cell_type": "markdown",
   "id": "f427d535-29b5-4986-a2e8-55fb077bd896",
   "metadata": {},
   "source": [
    "## 31. Create a program that validates a password based on complexity rules (length, characters, etc.)."
   ]
  },
  {
   "cell_type": "code",
   "execution_count": 16,
   "id": "1d499979-10c5-432c-be9f-666e88edb009",
   "metadata": {},
   "outputs": [
    {
     "name": "stdin",
     "output_type": "stream",
     "text": [
      "enter your password h\n"
     ]
    },
    {
     "name": "stdout",
     "output_type": "stream",
     "text": [
      "Invalid password Password must be at least 8 characters long.\n",
      "password must contain at least one uppercase letter\n",
      " password must contain atleast one digit\n",
      "password must contain at least one special character\n"
     ]
    }
   ],
   "source": [
    "password = input(\"enter your password\")\n",
    "if len(password) < 8:\n",
    "    print(\"Invalid password Password must be at least 8 characters long.\")\n",
    "\n",
    "if not any(char.isupper() for char in password):\n",
    "    print(\"password must contain at least one uppercase letter\")\n",
    "if not any(char.islower() for char in password):\n",
    "    print(\"password must contain at least one lowercase letter\")\n",
    "if not any(char.isdigit() for char in password):\n",
    "    print(\" password must contain atleast one digit\")\n",
    "if not any(char in '!@#$%^&*' for char in password):\n",
    "    print(\"password must contain at least one special character\")\n",
    "    \n",
    "if len(password) >= 8 and any(char.isupper() for char in password) and any(char.lower() for char in password )and any(char.isdigit() for char in password) and any(char in '!@#$%^&*' for char in password):\n",
    "    print(f\"{password} is a valid password.\")\n",
    "    \n"
   ]
  },
  {
   "cell_type": "markdown",
   "id": "5b0a68f2-0fbf-40bb-b71d-ac3da7c30d23",
   "metadata": {},
   "source": [
    "#### "
   ]
  },
  {
   "cell_type": "markdown",
   "id": "3398c8bc-a300-40e6-a40b-bca485c6e4b7",
   "metadata": {},
   "source": [
    "## 36. Write a program that generates Fibonacci numbers up to a specified term using iterative methods."
   ]
  },
  {
   "cell_type": "code",
   "execution_count": 19,
   "id": "549e9dd4-21d0-4deb-a587-b3563c5b52a4",
   "metadata": {},
   "outputs": [
    {
     "name": "stdin",
     "output_type": "stream",
     "text": [
      "Enter the number of Fibonacci terms to generate:  54\n"
     ]
    },
    {
     "name": "stdout",
     "output_type": "stream",
     "text": [
      "Fibonacci sequence up to term 54 : [0, 1, 1, 2, 3, 5, 8, 13, 21, 34, 55, 89, 144, 233, 377, 610, 987, 1597, 2584, 4181, 6765, 10946, 17711, 28657, 46368, 75025, 121393, 196418, 317811, 514229, 832040, 1346269, 2178309, 3524578, 5702887, 9227465, 14930352, 24157817, 39088169, 63245986, 102334155, 165580141, 267914296, 433494437, 701408733, 1134903170, 1836311903, 2971215073, 4807526976, 7778742049, 12586269025, 20365011074, 32951280099, 53316291173, 86267571272]\n"
     ]
    }
   ],
   "source": [
    "def generate_fibonacci(n):\n",
    "    fibonacci_sequence = [0, 1]\n",
    "    if n <= 1:\n",
    "        return fibonacci_sequence[:n + 1]\n",
    "    else:\n",
    "        for i in range(2, n + 1):\n",
    "            fibonacci_sequence.append(fibonacci_sequence[i - 1] + fibonacci_sequence[i - 2])\n",
    "        return fibonacci_sequence\n",
    "\n",
    "def main():\n",
    "    n = int(input(\"Enter the number of Fibonacci terms to generate: \"))\n",
    "    fibonacci_sequence = generate_fibonacci(n)\n",
    "    print(\"Fibonacci sequence up to term\", n, \":\", fibonacci_sequence)\n",
    "\n",
    "if __name__ == \"__main__\":\n",
    "    main()\n"
   ]
  },
  {
   "cell_type": "markdown",
   "id": "cd771853-56e3-4b41-b74c-b8101454797f",
   "metadata": {},
   "source": [
    "## 37. Develop a program that calculates the nth term of the Fibonacci sequence using memoization."
   ]
  },
  {
   "cell_type": "code",
   "execution_count": 21,
   "id": "6ae7cd0f-c40a-4815-9832-fcad5e4fbdeb",
   "metadata": {},
   "outputs": [
    {
     "name": "stdin",
     "output_type": "stream",
     "text": [
      "Enter the value of n to calculate the nth Fibonacci term:  5\n"
     ]
    },
    {
     "name": "stdout",
     "output_type": "stream",
     "text": [
      "The 5th Fibonacci term is: 5\n"
     ]
    }
   ],
   "source": [
    "def fibonacci(n, memo={}):\n",
    "    if n in memo:\n",
    "        return memo[n]\n",
    "    if n <= 1:\n",
    "        return n\n",
    "    memo[n] = fibonacci(n - 1, memo) + fibonacci(n - 2, memo)\n",
    "    return memo[n]\n",
    "\n",
    "def main():\n",
    "    n = int(input(\"Enter the value of n to calculate the nth Fibonacci term: \"))\n",
    "    result = fibonacci(n)\n",
    "    print(f\"The {n}th Fibonacci term is: {result}\")\n",
    "\n",
    "if __name__ == \"__main__\":\n",
    "    main()\n"
   ]
  },
  {
   "cell_type": "markdown",
   "id": "5777b264-5a3c-45da-bea5-b65adf827819",
   "metadata": {},
   "source": [
    "## 38. Create a program that generates a calendar for a given month and year using conditional statements."
   ]
  },
  {
   "cell_type": "code",
   "execution_count": 23,
   "id": "68deb20b-5680-444d-9eb9-ccc8debca6b6",
   "metadata": {},
   "outputs": [
    {
     "name": "stdin",
     "output_type": "stream",
     "text": [
      "Enter the year:  2002\n",
      "Enter the month (1-12):  4\n"
     ]
    },
    {
     "name": "stdout",
     "output_type": "stream",
     "text": [
      "April 2002\n",
      "Mo Tu We Th Fr Sa Su\n",
      " 1  2  3  4  5  6  7 \n",
      " 8  9 10 11 12 13 14 \n",
      "15 16 17 18 19 20 21 \n",
      "22 23 24 25 26 27 28 \n",
      "29 30                     \n"
     ]
    }
   ],
   "source": [
    "import calendar\n",
    "\n",
    "def generate_calendar(year, month):\n",
    "    # Print the month and year\n",
    "    print(calendar.month_name[month], year)\n",
    "\n",
    "    # Print the calendar\n",
    "    print(\"Mo Tu We Th Fr Sa Su\")\n",
    "    cal = calendar.monthcalendar(year, month)\n",
    "    for week in cal:\n",
    "        for day in week:\n",
    "            if day == 0:\n",
    "                print(\"   \", end=\" \")\n",
    "            else:\n",
    "                print(f\"{day:2}\", end=\" \")\n",
    "        print()\n",
    "\n",
    "def main():\n",
    "    year = int(input(\"Enter the year: \"))\n",
    "    month = int(input(\"Enter the month (1-12): \"))\n",
    "    generate_calendar(year, month)\n",
    "\n",
    "if __name__ == \"__main__\":\n",
    "    main()\n"
   ]
  },
  {
   "cell_type": "markdown",
   "id": "f9832974-a47a-4d3e-a77a-3646c4852054",
   "metadata": {},
   "source": [
    "## 40. Write a program that generates the prime factors of a given number using trial division."
   ]
  },
  {
   "cell_type": "code",
   "execution_count": 24,
   "id": "bfb16651-4431-44b1-a3fd-62afd4ac922e",
   "metadata": {},
   "outputs": [
    {
     "name": "stdin",
     "output_type": "stream",
     "text": [
      "Enter a number to find its prime factors:  5\n"
     ]
    },
    {
     "name": "stdout",
     "output_type": "stream",
     "text": [
      "Prime factors of 5 : [5]\n"
     ]
    }
   ],
   "source": [
    "def prime_factors(n):\n",
    "    factors = []\n",
    "    divisor = 2\n",
    "    while n > 1:\n",
    "        while n % divisor == 0:\n",
    "            factors.append(divisor)\n",
    "            n //= divisor\n",
    "        divisor += 1\n",
    "    return factors\n",
    "\n",
    "def main():\n",
    "    num = int(input(\"Enter a number to find its prime factors: \"))\n",
    "    factors = prime_factors(num)\n",
    "    if len(factors) == 0:\n",
    "        print(\"The number is prime.\")\n",
    "    else:\n",
    "        print(\"Prime factors of\", num, \":\", factors)\n",
    "\n",
    "if __name__ == \"__main__\":\n",
    "    main()\n"
   ]
  },
  {
   "cell_type": "code",
   "execution_count": null,
   "id": "f7569841-ff23-46f8-a83d-fcd03fa28a80",
   "metadata": {},
   "outputs": [],
   "source": []
  }
 ],
 "metadata": {
  "kernelspec": {
   "display_name": "Python 3 (ipykernel)",
   "language": "python",
   "name": "python3"
  },
  "language_info": {
   "codemirror_mode": {
    "name": "ipython",
    "version": 3
   },
   "file_extension": ".py",
   "mimetype": "text/x-python",
   "name": "python",
   "nbconvert_exporter": "python",
   "pygments_lexer": "ipython3",
   "version": "3.10.8"
  }
 },
 "nbformat": 4,
 "nbformat_minor": 5
}
